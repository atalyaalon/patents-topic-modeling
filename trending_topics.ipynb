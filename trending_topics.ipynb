{
 "cells": [
  {
   "cell_type": "code",
   "execution_count": null,
   "id": "d961c427",
   "metadata": {},
   "outputs": [],
   "source": [
    "from dotenv import load_dotenv\n",
    "import os\n",
    "from s3_utils import load_topics_by_year_df\n",
    "\n",
    "load_dotenv()\n",
    "\n",
    "DATASET_TYPE = os.environ[\"DATASET_TYPE\"]\n",
    "if DATASET_TYPE == \"SAMPLE\":\n",
    "    SAVE_DIR = \"outputs_sample\"\n",
    "elif DATASET_TYPE == \"FULL\":\n",
    "    SAVE_DIR = \"outputs_full\""
   ]
  },
  {
   "cell_type": "code",
   "execution_count": null,
   "id": "600c069b",
   "metadata": {},
   "outputs": [],
   "source": [
    "import pandas as pd\n",
    "\n",
    "def find_large_trending_topics(df, threshold_count=100, significant_change=0.5):\n",
    "    \"\"\"\n",
    "    Finds topics with at least one yearly count >= threshold_count \n",
    "    and significant increase or decrease between 2013 and 2016.\n",
    "\n",
    "    Parameters:\n",
    "    - df: pandas DataFrame with columns ['year', 'topic_words', 'topic_id', 'count']\n",
    "    - threshold_count: minimum yearly count to consider a topic \"large\"\n",
    "    - significant_change: fraction change considered significant (e.g., 0.5 = 50%)\n",
    "\n",
    "    Returns:\n",
    "    - DataFrame of trending topics with columns:\n",
    "      ['topic_words', 'topic_id', 'count_2013', 'count_2016', 'change', 'trend']\n",
    "    \"\"\"\n",
    "\n",
    "    # Filter topics that have at least one yearly count >= threshold_count\n",
    "    large_topics = df.groupby('topic_words').filter(lambda x: x['count'].max() >= threshold_count)\n",
    "\n",
    "    # Pivot to have years as columns\n",
    "    pivot = large_topics.pivot_table(index=['topic_words', 'topic_id'], \n",
    "                                     columns='year', values='count', fill_value=0)\n",
    "\n",
    "    # Ensure 2013 and 2016 exist\n",
    "    pivot = pivot.reindex(columns=[2013, 2016], fill_value=0)\n",
    "\n",
    "    # Calculate change\n",
    "    pivot['change'] = pivot[2016] - pivot[2013]\n",
    "    pivot['percent_change'] = 100 * pivot['change'] / pivot[2013].replace(0, 1)  # avoid division by zero\n",
    "\n",
    "    # Determine trend\n",
    "    def trend_label(row):\n",
    "        if row['percent_change'] >= significant_change:\n",
    "            return 'increase'\n",
    "        elif row['percent_change'] <= -significant_change:\n",
    "            return 'decrease'\n",
    "        else:\n",
    "            return 'stable'\n",
    "\n",
    "    pivot['trend'] = pivot.apply(trend_label, axis=1)\n",
    "\n",
    "    # Keep only increasing or decreasing topics\n",
    "    result = pivot[pivot['trend'].isin(['increase', 'decrease'])].reset_index()\n",
    "\n",
    "    # Keep only relevant columns\n",
    "    result = result[['topic_words', 'topic_id', 2013, 2016, 'change', 'percent_change', 'trend']]\n",
    "    result = result.rename(columns={2013: 'count_2013', 2016: 'count_2016'})\n",
    "    result.columns.name = ''\n",
    "\n",
    "    return result"
   ]
  },
  {
   "cell_type": "code",
   "execution_count": null,
   "id": "f2bd1bc1",
   "metadata": {},
   "outputs": [],
   "source": [
    "df_topics_by_year = load_topics_by_year_df()\n",
    "df_trends = find_large_trending_topics(df_topics_by_year)\n",
    "df_trends.loc[df_trends.trend == 'increase'].sort_values('percent_change', ascending=False).reset_index(drop=True)"
   ]
  }
 ],
 "metadata": {
  "kernelspec": {
   "display_name": ".venv (3.11.13)",
   "language": "python",
   "name": "python3"
  },
  "language_info": {
   "codemirror_mode": {
    "name": "ipython",
    "version": 3
   },
   "file_extension": ".py",
   "mimetype": "text/x-python",
   "name": "python",
   "nbconvert_exporter": "python",
   "pygments_lexer": "ipython3",
   "version": "3.11.13"
  }
 },
 "nbformat": 4,
 "nbformat_minor": 5
}
